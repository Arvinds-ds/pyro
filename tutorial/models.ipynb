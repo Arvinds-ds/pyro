{
 "cells": [
  {
   "cell_type": "code",
   "execution_count": null,
   "metadata": {
    "collapsed": true
   },
   "outputs": [],
   "source": [
    "%matplotlib inline\n",
    "# import some dependencies\n",
    "import numpy as np\n",
    "import matplotlib.pyplot as plt\n",
    "import torch\n",
    "from torch.autograd import Variable\n",
    "\n",
    "import pyro\n",
    "import pyro.distributions as dist"
   ]
  },
  {
   "cell_type": "markdown",
   "metadata": {},
   "source": [
    "# Models in Pyro: from primitive distributions to stochastic functions\n",
    "\n",
    "The basic unit of Pyro programs is the stochastic function, or an arbitrary Python callable (i.e. Python object with a `__call__()` method, like a function, a method, or a `nn.Module`) that either contains some irreducible internal randomness or calls other stochastic functions internally with the top-level function `pyro.sample`.\n",
    "\n",
    "Throughout this tutorial and the rest of Pyro's tutorials and documentation, we will often call stochastic functions *models*, because stochastic functions are often meant as simplified or stylized descriptions of a process by which data is generated.  Expresing models as stochastic functions in Pyro means that models may be composed, reused, imported, and serialized just like regular Python callables.\n",
    "\n",
    "Conceptually, `pyro.sample` simply applies its function argument to the rest of its arguments, much like\n",
    "```python\n",
    "apply_fn = lambda fn, *args, **kwargs: fn(*args, **kwargs)\n",
    "```\n",
    "However, its first argument is always a string that we call a name.  Each name can only appear once in a stochastic function; Pyro's backend uses these names to uniquely idenfity `sample` statements and change their behavior at runtime."
   ]
  },
  {
   "cell_type": "code",
   "execution_count": null,
   "metadata": {
    "collapsed": true
   },
   "outputs": [],
   "source": [
    "def normal_product(mu, sigma):\n",
    "    z1 = pyro.sample(\"z1\", dist.diagnormal, mu, sigma)\n",
    "    z2 = pyro.sample(\"z2\", dist.diagnormal, torch.zeros(mu.size()), torch.ones(sigma.size()))\n",
    "    y = z1 * z2\n",
    "    return y\n",
    "\n",
    "print(normal_product(torch.zeros(1), torch.ones(1)))"
   ]
  },
  {
   "cell_type": "markdown",
   "metadata": {},
   "source": [
    "Stochastic functions induce joint probability distributions `p(y, z | x)` over their outputs `y` and internal stochastic function calls `z` given their inputs `x`.  In general, sampling from the marginal distribution `p(y | x)` or computing marginal probabilities is intractable."
   ]
  },
  {
   "cell_type": "markdown",
   "metadata": {},
   "source": [
    "## Primitive stochastic functions\n",
    "\n",
    "Primitive stochastic functions, or distributions, are an important class of stochastic functions for which we can explicitly compute the probability of outputs given inputs.  In `normal_product`, the function `diagnormal` is a primitive stochastic function.  Pyro includes a rich standalone library of GPU-accelerated multivariate probability distributions built on PyTorch (LINK).\n",
    "\n",
    "Users can also implement custom distributions by simply subclassing `pyro.distributions.Distribution`."
   ]
  },
  {
   "cell_type": "code",
   "execution_count": null,
   "metadata": {
    "collapsed": true
   },
   "outputs": [],
   "source": [
    "# samples are drawn by calling the primitive distribution with any necessary parameters\n",
    "x = dist.diagnormal(torch.ones(1)*0.5)\n",
    "print(x)\n",
    "\n",
    "# primitive stochastic functions can also score values by calling \n",
    "# distribution.log_pdf(value_to_score, *arguments_to_distribution_sample)\n",
    "logpx = dist.bernoulli.log_pdf(x, p)\n",
    "print(logpx)"
   ]
  },
  {
   "cell_type": "markdown",
   "metadata": {},
   "source": [
    "## Stochastic recursion and higher-order stochastic functions\n",
    "\n",
    "Because Pyro is embedded in Python, stochastic functions can contain arbitrarily complex deterministic Python and randomness can freely affect control flow, including generating names dynamically.  For example, we can construct recursive functions that terminate their recursion nondeterministically, so long as all names are unique:"
   ]
  },
  {
   "cell_type": "code",
   "execution_count": null,
   "metadata": {
    "collapsed": true
   },
   "outputs": [],
   "source": [
    "def geometric(p, t=None):\n",
    "    if t is None:\n",
    "        t = 0\n",
    "    x = pyro.sample(\"x_{}\".format(t), bernoulli, p)\n",
    "    if torch.equal(x, torch.zeros(x.size())):\n",
    "        return x\n",
    "    else:\n",
    "        return x + geometric(t+1, p)\n",
    "    \n",
    "print(geometric(torch.Tensor([0.5])))"
   ]
  },
  {
   "cell_type": "markdown",
   "metadata": {},
   "source": [
    "We are also free to define stochastic functions that accept as input or produce as output other stochastic functions:"
   ]
  },
  {
   "cell_type": "code",
   "execution_count": null,
   "metadata": {
    "collapsed": true
   },
   "outputs": [],
   "source": [
    "def make_normal_normal():\n",
    "    mu_latent = pyro.sample(\"mu_latent\", dist.diagnormal, torch.zeros(1), torch.ones(1))\n",
    "    return lambda: normal_product(mu_latent, torch.ones(1))\n",
    "\n",
    "normal_product_2 = make_normal_product()\n",
    "print(normal_product_2())"
   ]
  },
  {
   "cell_type": "markdown",
   "metadata": {},
   "source": [
    "## Implicit distributions and external randomness\n",
    "\n",
    "Stochastic functions in Pyro can in principle contain arbitrary external randomness, though current inference algorithms expect all `pyro.sample` statements to contain primitive stochastic functions."
   ]
  },
  {
   "cell_type": "code",
   "execution_count": null,
   "metadata": {
    "collapsed": true
   },
   "outputs": [],
   "source": [
    "def implicit_normal(mu, sigma):\n",
    "    return torch.randn(mu.size()) * sigma + mu"
   ]
  },
  {
   "cell_type": "markdown",
   "metadata": {},
   "source": [
    "Internal stochastic function calls should not depend on top-level external randomness:"
   ]
  },
  {
   "cell_type": "code",
   "execution_count": null,
   "metadata": {
    "collapsed": true
   },
   "outputs": [],
   "source": [
    "# ALLOWED\n",
    "def implicit_normal_product(mu):\n",
    "    a = pyro.sample(\"a\", diagnormal, mu, torch.ones(1))\n",
    "    b = torch.randn(mu.size())\n",
    "    return a * b\n",
    "\n",
    "# NOT ALLOWED\n",
    "def implicit_normal_product_2(mu):\n",
    "    sigma = torch.exp(torch.randn(mu.size()))\n",
    "    a = pyro.sample(\"a\", dist.diagnormal, mu, sigma)\n",
    "    b = torch.randn(mu.size())\n",
    "    return a * b"
   ]
  },
  {
   "cell_type": "code",
   "execution_count": null,
   "metadata": {
    "collapsed": true
   },
   "outputs": [],
   "source": []
  }
 ],
 "metadata": {
  "kernelspec": {
   "display_name": "Python 3",
   "language": "python",
   "name": "python3"
  },
  "language_info": {
   "codemirror_mode": {
    "name": "ipython",
    "version": 3
   },
   "file_extension": ".py",
   "mimetype": "text/x-python",
   "name": "python",
   "nbconvert_exporter": "python",
   "pygments_lexer": "ipython3",
   "version": "3.6.2"
  }
 },
 "nbformat": 4,
 "nbformat_minor": 2
}
